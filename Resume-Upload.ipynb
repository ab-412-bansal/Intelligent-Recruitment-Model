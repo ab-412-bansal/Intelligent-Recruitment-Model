{
 "cells": [
  {
   "cell_type": "markdown",
   "metadata": {},
   "source": [
    "# Resume Upload"
   ]
  },
  {
   "cell_type": "code",
   "execution_count": 1,
   "metadata": {},
   "outputs": [
    {
     "name": "stdout",
     "output_type": "stream",
     "text": [
      "Requirement already satisfied: Flask in c:\\users\\dell\\appdata\\local\\programs\\python\\python311\\lib\\site-packages (3.0.0)\n",
      "Requirement already satisfied: Werkzeug>=3.0.0 in c:\\users\\dell\\appdata\\local\\programs\\python\\python311\\lib\\site-packages (from Flask) (3.0.0)\n",
      "Requirement already satisfied: Jinja2>=3.1.2 in c:\\users\\dell\\appdata\\local\\programs\\python\\python311\\lib\\site-packages (from Flask) (3.1.2)\n",
      "Requirement already satisfied: itsdangerous>=2.1.2 in c:\\users\\dell\\appdata\\local\\programs\\python\\python311\\lib\\site-packages (from Flask) (2.1.2)\n",
      "Requirement already satisfied: click>=8.1.3 in c:\\users\\dell\\appdata\\local\\programs\\python\\python311\\lib\\site-packages (from Flask) (8.1.7)\n",
      "Requirement already satisfied: blinker>=1.6.2 in c:\\users\\dell\\appdata\\local\\programs\\python\\python311\\lib\\site-packages (from Flask) (1.6.3)\n",
      "Requirement already satisfied: colorama in c:\\users\\dell\\appdata\\local\\programs\\python\\python311\\lib\\site-packages (from click>=8.1.3->Flask) (0.4.6)\n",
      "Requirement already satisfied: MarkupSafe>=2.0 in c:\\users\\dell\\appdata\\local\\programs\\python\\python311\\lib\\site-packages (from Jinja2>=3.1.2->Flask) (2.1.3)\n"
     ]
    }
   ],
   "source": [
    "!pip install Flask"
   ]
  },
  {
   "cell_type": "code",
   "execution_count": 2,
   "metadata": {},
   "outputs": [],
   "source": [
    "from flask import *\n",
    "from datetime import datetime\n",
    "from flask_bcrypt import Bcrypt \n",
    "from flask_sqlalchemy import SQLAlchemy\n",
    "from flask_login import LoginManager, UserMixin, login_user, logout_user, login_required, current_user  \n",
    "import pandas as pd\n",
    "import os"
   ]
  },
  {
   "cell_type": "code",
   "execution_count": 3,
   "metadata": {},
   "outputs": [],
   "source": [
    "\n",
    "app = Flask(__name__)\n",
    "\n",
    "UPLOAD_FOLDER = 'Resumes'\n",
    "app.config['UPLOAD_FOLDER'] = UPLOAD_FOLDER\n",
    "\n",
    "ALLOWED_EXTENSIONS = {'docx'}\n",
    "\n",
    "def allowed_file(filename):\n",
    "    return '.' in filename and filename.rsplit('.', 1)[1].lower() in ALLOWED_EXTENSIONS\n",
    "\n",
    "@app.route('/')\n",
    "def index():\n",
    "    return render_template('index.html')\n",
    "\n",
    "@app.route('/upload', methods=['GET', 'POST'])\n",
    "def upload_file():\n",
    "    if request.method == 'POST':\n",
    "        if 'resume' not in request.files:\n",
    "            return 'No file part'\n",
    "        \n",
    "        file = request.files['resume']\n",
    "        name = request.form['name']\n",
    "        \n",
    "        if file.filename == '':\n",
    "            return 'No selected file'\n",
    "        \n",
    "        if file and allowed_file(file.filename):\n",
    "            file.save(os.path.join(app.config['UPLOAD_FOLDER'], name + '.docx'))\n",
    "            return render_template('submitted.html',mes='File uploaded Succesfully!', type='success')\n",
    "        else:\n",
    "            return render_template('submitted.html',mes='Invalid file type. Please upload a .docx file.', type='error')\n",
    "           \n",
    "    else:\n",
    "        return render_template('upload.html')"
   ]
  },
  {
   "cell_type": "code",
   "execution_count": 4,
   "metadata": {},
   "outputs": [
    {
     "name": "stdout",
     "output_type": "stream",
     "text": [
      " * Serving Flask app '__main__'\n",
      " * Debug mode: off\n"
     ]
    },
    {
     "name": "stderr",
     "output_type": "stream",
     "text": [
      "WARNING: This is a development server. Do not use it in a production deployment. Use a production WSGI server instead.\n",
      " * Running on http://127.0.0.1:5000\n",
      "Press CTRL+C to quit\n",
      "127.0.0.1 - - [12/May/2024 17:29:37] \"GET / HTTP/1.1\" 200 -\n",
      "127.0.0.1 - - [12/May/2024 17:29:37] \"GET /static/index.css HTTP/1.1\" 304 -\n",
      "127.0.0.1 - - [12/May/2024 17:29:37] \"GET /static/logobg.png HTTP/1.1\" 304 -\n",
      "127.0.0.1 - - [12/May/2024 17:29:41] \"GET /upload HTTP/1.1\" 200 -\n",
      "127.0.0.1 - - [12/May/2024 17:29:42] \"GET /static/upload.css HTTP/1.1\" 304 -\n",
      "127.0.0.1 - - [12/May/2024 17:29:42] \"GET /static/logobg.png HTTP/1.1\" 304 -\n",
      "127.0.0.1 - - [12/May/2024 17:29:53] \"POST /upload HTTP/1.1\" 200 -\n",
      "127.0.0.1 - - [12/May/2024 17:29:53] \"GET /static/submit.css HTTP/1.1\" 200 -\n",
      "127.0.0.1 - - [12/May/2024 17:29:53] \"GET /static/cross.jpg HTTP/1.1\" 304 -\n",
      "127.0.0.1 - - [12/May/2024 17:30:33] \"POST /upload HTTP/1.1\" 200 -\n",
      "127.0.0.1 - - [12/May/2024 17:30:33] \"GET /static/submit.css HTTP/1.1\" 200 -\n",
      "127.0.0.1 - - [12/May/2024 17:30:33] \"GET /static/cross.jpg HTTP/1.1\" 304 -\n",
      "127.0.0.1 - - [12/May/2024 17:30:50] \"POST /upload HTTP/1.1\" 200 -\n",
      "127.0.0.1 - - [12/May/2024 17:30:51] \"GET /static/submit.css HTTP/1.1\" 200 -\n",
      "127.0.0.1 - - [12/May/2024 17:30:51] \"GET /static/cross.jpg HTTP/1.1\" 304 -\n",
      "127.0.0.1 - - [12/May/2024 17:33:44] \"GET / HTTP/1.1\" 200 -\n",
      "127.0.0.1 - - [12/May/2024 17:33:45] \"GET /static/index.css HTTP/1.1\" 200 -\n",
      "127.0.0.1 - - [12/May/2024 17:33:45] \"GET /static/logobg.png HTTP/1.1\" 304 -\n",
      "127.0.0.1 - - [12/May/2024 17:33:49] \"GET /upload HTTP/1.1\" 200 -\n",
      "127.0.0.1 - - [12/May/2024 17:33:49] \"GET /static/upload.css HTTP/1.1\" 304 -\n",
      "127.0.0.1 - - [12/May/2024 17:33:49] \"GET /static/logobg.png HTTP/1.1\" 304 -\n",
      "127.0.0.1 - - [12/May/2024 17:33:53] \"GET / HTTP/1.1\" 200 -\n",
      "127.0.0.1 - - [12/May/2024 17:33:53] \"GET /static/index.css HTTP/1.1\" 304 -\n",
      "127.0.0.1 - - [12/May/2024 17:33:53] \"GET /static/logobg.png HTTP/1.1\" 304 -\n",
      "127.0.0.1 - - [12/May/2024 17:33:57] \"GET /upload HTTP/1.1\" 200 -\n",
      "127.0.0.1 - - [12/May/2024 17:33:57] \"GET /static/upload.css HTTP/1.1\" 304 -\n",
      "127.0.0.1 - - [12/May/2024 17:33:57] \"GET /static/logobg.png HTTP/1.1\" 304 -\n",
      "127.0.0.1 - - [12/May/2024 17:34:12] \"GET / HTTP/1.1\" 200 -\n",
      "127.0.0.1 - - [12/May/2024 17:34:12] \"GET /static/index.css HTTP/1.1\" 304 -\n",
      "127.0.0.1 - - [12/May/2024 17:34:12] \"GET /static/logobg.png HTTP/1.1\" 304 -\n",
      "127.0.0.1 - - [12/May/2024 17:34:16] \"GET /upload HTTP/1.1\" 200 -\n",
      "127.0.0.1 - - [12/May/2024 17:34:16] \"GET /static/upload.css HTTP/1.1\" 304 -\n",
      "127.0.0.1 - - [12/May/2024 17:34:16] \"GET /static/logobg.png HTTP/1.1\" 304 -\n",
      "127.0.0.1 - - [12/May/2024 17:34:22] \"GET / HTTP/1.1\" 200 -\n",
      "127.0.0.1 - - [12/May/2024 17:34:22] \"GET /static/index.css HTTP/1.1\" 304 -\n",
      "127.0.0.1 - - [12/May/2024 17:34:22] \"GET /static/logobg.png HTTP/1.1\" 304 -\n",
      "127.0.0.1 - - [12/May/2024 17:34:26] \"GET /upload HTTP/1.1\" 200 -\n",
      "127.0.0.1 - - [12/May/2024 17:34:26] \"GET /static/upload.css HTTP/1.1\" 304 -\n",
      "127.0.0.1 - - [12/May/2024 17:34:26] \"GET /static/logobg.png HTTP/1.1\" 304 -\n",
      "127.0.0.1 - - [12/May/2024 17:35:34] \"GET / HTTP/1.1\" 200 -\n",
      "127.0.0.1 - - [12/May/2024 17:35:34] \"GET /static/index.css HTTP/1.1\" 304 -\n",
      "127.0.0.1 - - [12/May/2024 17:35:34] \"GET /static/logobg.png HTTP/1.1\" 304 -\n",
      "127.0.0.1 - - [12/May/2024 17:35:38] \"GET /upload HTTP/1.1\" 200 -\n",
      "127.0.0.1 - - [12/May/2024 17:35:38] \"GET /static/upload.css HTTP/1.1\" 304 -\n",
      "127.0.0.1 - - [12/May/2024 17:35:38] \"GET /static/logobg.png HTTP/1.1\" 304 -\n",
      "127.0.0.1 - - [12/May/2024 17:36:14] \"GET /leaderboard HTTP/1.1\" 404 -\n",
      "127.0.0.1 - - [12/May/2024 17:36:37] \"GET / HTTP/1.1\" 200 -\n",
      "127.0.0.1 - - [12/May/2024 17:36:37] \"GET /static/index.css HTTP/1.1\" 304 -\n",
      "127.0.0.1 - - [12/May/2024 17:36:37] \"GET /static/logobg.png HTTP/1.1\" 304 -\n",
      "127.0.0.1 - - [12/May/2024 17:36:41] \"GET /upload HTTP/1.1\" 200 -\n",
      "127.0.0.1 - - [12/May/2024 17:36:41] \"GET /static/upload.css HTTP/1.1\" 304 -\n",
      "127.0.0.1 - - [12/May/2024 17:36:41] \"GET /static/logobg.png HTTP/1.1\" 304 -\n"
     ]
    }
   ],
   "source": [
    "if __name__ == '__main__':\n",
    "    app.run(debug=False)"
   ]
  }
 ],
 "metadata": {
  "kernelspec": {
   "display_name": "Python 3",
   "language": "python",
   "name": "python3"
  },
  "language_info": {
   "codemirror_mode": {
    "name": "ipython",
    "version": 3
   },
   "file_extension": ".py",
   "mimetype": "text/x-python",
   "name": "python",
   "nbconvert_exporter": "python",
   "pygments_lexer": "ipython3",
   "version": "3.11.1"
  }
 },
 "nbformat": 4,
 "nbformat_minor": 2
}
