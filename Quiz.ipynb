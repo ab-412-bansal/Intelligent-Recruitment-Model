{
 "cells": [
  {
   "cell_type": "code",
   "execution_count": 71,
   "metadata": {},
   "outputs": [],
   "source": [
    "from flask import *\n",
    "from datetime import datetime\n",
    "from flask_bcrypt import Bcrypt \n",
    "from flask_sqlalchemy import SQLAlchemy\n",
    "from flask_login import LoginManager, UserMixin, login_user, logout_user, login_required, current_user  \n",
    "import pandas as pd\n",
    "import os"
   ]
  },
  {
   "cell_type": "code",
   "execution_count": 72,
   "metadata": {},
   "outputs": [],
   "source": [
    "app = Flask(__name__)\n",
    "app.config[\"SQLALCHEMY_DATABASE_URI\"] = \"sqlite:///candidates.sqlite\"\n",
    "app.config[\"SECRET_KEY\"] = \"2210993778\"\n",
    "db = SQLAlchemy()"
   ]
  },
  {
   "cell_type": "code",
   "execution_count": 73,
   "metadata": {},
   "outputs": [],
   "source": [
    "# Define the Candidate model\n",
    "class Candidate(db.Model):\n",
    "    id = db.Column(db.Integer, primary_key=True)\n",
    "    name = db.Column(db.String(100), nullable=False)\n",
    "    email = db.Column(db.String(100), nullable=False)\n",
    "    score = db.Column(db.Integer, nullable=False)"
   ]
  },
  {
   "cell_type": "code",
   "execution_count": 74,
   "metadata": {},
   "outputs": [],
   "source": [
    "# Add an event listener to the database session\n",
    "@db.event.listens_for(Candidate, 'after_insert')\n",
    "@db.event.listens_for(Candidate, 'after_update')\n",
    "@db.event.listens_for(Candidate, 'after_delete')\n",
    "def after_candidate_changes(mapper, connection, candidate):\n",
    "    candidates = Candidate.query.all()\n",
    "    df = pd.DataFrame([(c.id, c.name, c.email, (c.score/20)*100) for c in candidates], columns=['id', 'name', 'email', 'score'])\n",
    "    df.to_csv('candidates.csv', index=False)"
   ]
  },
  {
   "cell_type": "code",
   "execution_count": 75,
   "metadata": {},
   "outputs": [],
   "source": [
    "db.init_app(app)\n",
    "\n",
    "with app.app_context():\n",
    "    db.create_all()"
   ]
  },
  {
   "cell_type": "code",
   "execution_count": 76,
   "metadata": {},
   "outputs": [],
   "source": [
    "# Read questions from CSV file and shuffle them\n",
    "questions_df = pd.read_csv(\"data\\\\Questions.csv\")\n",
    "questions = questions_df.to_dict('records')  # Convert DataFrame to a list of dictionaries"
   ]
  },
  {
   "cell_type": "code",
   "execution_count": 77,
   "metadata": {},
   "outputs": [],
   "source": [
    "# Display the quiz interface\n",
    "@app.route('/')\n",
    "def index():\n",
    "    return render_template('index1.html')\n",
    "\n",
    "@app.route('/quiz')\n",
    "def quiz():\n",
    "    return render_template('quiz.html', questions=questions)\n",
    "\n",
    "# Handle form submission\n",
    "@app.route('/submit', methods=['POST'])\n",
    "def submit():\n",
    "    name = request.form['name']\n",
    "    email = request.form['email']\n",
    "    score = calculate_score(request.form)\n",
    "\n",
    "    # Check if a candidate with the same email already exists\n",
    "    candidate = Candidate.query.filter_by(email=email).first()\n",
    "\n",
    "    if candidate:\n",
    "        # Update the existing candidate's score\n",
    "        candidate.score = score\n",
    "    else:\n",
    "        # Create a new candidate\n",
    "        candidate = Candidate(name=name, email=email, score=score)\n",
    "        db.session.add(candidate)\n",
    "\n",
    "    # Store candidate details and score in the database\n",
    "    db.session.commit()\n",
    "\n",
    "    return render_template('submit.html')\n",
    "\n",
    "# Calculate candidate score based on answers\n",
    "def calculate_score(form_data):\n",
    "    score = 0\n",
    "    for question in questions:\n",
    "        answer_key = f\"answer_{question['Question ID']}\"\n",
    "        if form_data.get(answer_key) == str(question['Correct Answer']):\n",
    "            score += 1\n",
    "    return score"
   ]
  },
  {
   "cell_type": "code",
   "execution_count": 78,
   "metadata": {},
   "outputs": [],
   "source": [
    "# Display all candidates and their marks in percentage\n",
    "@app.route('/leaderboard')\n",
    "def leaderboard():\n",
    "    candidates = Candidate.query.order_by(Candidate.score.desc()).all()\n",
    "    ranked_candidates = generate_ranks(candidates)\n",
    "    return render_template('leaderboard.html', candidates=ranked_candidates)\n",
    "\n",
    "# Function to generate ranks for candidates\n",
    "def generate_ranks(candidates):\n",
    "    ranked_candidates = []\n",
    "    rank = 1\n",
    "    prev_score = None\n",
    "\n",
    "    # Sort candidates by score in descending order, and by name in ascending order\n",
    "    sorted_candidates = sorted(candidates, key=lambda c: (-c.score, c.name))\n",
    "\n",
    "    for candidate in sorted_candidates:\n",
    "        if candidate.score != prev_score:\n",
    "            rank = len(ranked_candidates) + 1\n",
    "            prev_score = candidate.score\n",
    "        ranked_candidates.append({'rank': rank, 'candidate': candidate})\n",
    "\n",
    "    return ranked_candidates"
   ]
  },
  {
   "cell_type": "code",
   "execution_count": 79,
   "metadata": {},
   "outputs": [
    {
     "name": "stdout",
     "output_type": "stream",
     "text": [
      " * Serving Flask app '__main__'\n",
      " * Debug mode: off\n"
     ]
    },
    {
     "name": "stderr",
     "output_type": "stream",
     "text": [
      "WARNING: This is a development server. Do not use it in a production deployment. Use a production WSGI server instead.\n",
      " * Running on http://127.0.0.1:5000\n",
      "Press CTRL+C to quit\n",
      "127.0.0.1 - - [12/May/2024 18:06:12] \"GET / HTTP/1.1\" 200 -\n",
      "127.0.0.1 - - [12/May/2024 18:06:12] \"GET /static/index.css HTTP/1.1\" 304 -\n",
      "127.0.0.1 - - [12/May/2024 18:06:12] \"GET /static/logobg.png HTTP/1.1\" 304 -\n",
      "127.0.0.1 - - [12/May/2024 18:06:16] \"GET /quiz HTTP/1.1\" 200 -\n",
      "127.0.0.1 - - [12/May/2024 18:06:16] \"GET /static/styles.css HTTP/1.1\" 304 -\n",
      "127.0.0.1 - - [12/May/2024 18:06:16] \"GET /static/logobg.png HTTP/1.1\" 304 -\n",
      "127.0.0.1 - - [12/May/2024 18:06:18] \"GET /leaderboard HTTP/1.1\" 200 -\n",
      "127.0.0.1 - - [12/May/2024 18:06:18] \"GET /static/leaderboard.css HTTP/1.1\" 304 -\n",
      "127.0.0.1 - - [12/May/2024 18:06:18] \"GET /static/logobg.png HTTP/1.1\" 304 -\n",
      "127.0.0.1 - - [12/May/2024 18:06:21] \"GET /leaderboard HTTP/1.1\" 200 -\n",
      "127.0.0.1 - - [12/May/2024 18:06:21] \"GET /static/leaderboard.css HTTP/1.1\" 304 -\n",
      "127.0.0.1 - - [12/May/2024 18:06:21] \"GET /static/logobg.png HTTP/1.1\" 304 -\n",
      "127.0.0.1 - - [12/May/2024 18:06:22] \"GET /leaderboard HTTP/1.1\" 200 -\n",
      "127.0.0.1 - - [12/May/2024 18:06:22] \"GET /static/leaderboard.css HTTP/1.1\" 304 -\n",
      "127.0.0.1 - - [12/May/2024 18:06:22] \"GET /static/logobg.png HTTP/1.1\" 304 -\n",
      "127.0.0.1 - - [12/May/2024 18:06:22] \"GET /leaderboard HTTP/1.1\" 200 -\n",
      "127.0.0.1 - - [12/May/2024 18:06:22] \"GET /static/leaderboard.css HTTP/1.1\" 304 -\n",
      "127.0.0.1 - - [12/May/2024 18:06:22] \"GET /static/logobg.png HTTP/1.1\" 304 -\n",
      "127.0.0.1 - - [12/May/2024 18:06:22] \"GET /leaderboard HTTP/1.1\" 200 -\n",
      "127.0.0.1 - - [12/May/2024 18:06:22] \"GET /static/leaderboard.css HTTP/1.1\" 304 -\n",
      "127.0.0.1 - - [12/May/2024 18:06:22] \"GET /static/logobg.png HTTP/1.1\" 304 -\n",
      "127.0.0.1 - - [12/May/2024 18:06:22] \"GET /leaderboard HTTP/1.1\" 200 -\n",
      "127.0.0.1 - - [12/May/2024 18:06:22] \"GET /static/leaderboard.css HTTP/1.1\" 304 -\n",
      "127.0.0.1 - - [12/May/2024 18:06:22] \"GET /static/logobg.png HTTP/1.1\" 304 -\n",
      "127.0.0.1 - - [12/May/2024 18:06:22] \"GET /leaderboard HTTP/1.1\" 200 -\n",
      "127.0.0.1 - - [12/May/2024 18:06:22] \"GET /static/leaderboard.css HTTP/1.1\" 304 -\n",
      "127.0.0.1 - - [12/May/2024 18:06:22] \"GET /static/logobg.png HTTP/1.1\" 304 -\n",
      "127.0.0.1 - - [12/May/2024 18:06:23] \"GET /leaderboard HTTP/1.1\" 200 -\n",
      "127.0.0.1 - - [12/May/2024 18:06:23] \"GET /static/leaderboard.css HTTP/1.1\" 304 -\n",
      "127.0.0.1 - - [12/May/2024 18:06:23] \"GET /static/logobg.png HTTP/1.1\" 304 -\n"
     ]
    }
   ],
   "source": [
    "if __name__ == '__main__':\n",
    "    app.run(debug=False)"
   ]
  },
  {
   "cell_type": "code",
   "execution_count": null,
   "metadata": {},
   "outputs": [],
   "source": []
  }
 ],
 "metadata": {
  "kernelspec": {
   "display_name": "Python 3",
   "language": "python",
   "name": "python3"
  },
  "language_info": {
   "codemirror_mode": {
    "name": "ipython",
    "version": 3
   },
   "file_extension": ".py",
   "mimetype": "text/x-python",
   "name": "python",
   "nbconvert_exporter": "python",
   "pygments_lexer": "ipython3",
   "version": "3.11.1"
  }
 },
 "nbformat": 4,
 "nbformat_minor": 2
}
